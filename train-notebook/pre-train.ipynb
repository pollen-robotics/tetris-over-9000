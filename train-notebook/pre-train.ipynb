{
 "cells": [
  {
   "cell_type": "code",
   "execution_count": 1,
   "metadata": {},
   "outputs": [
    {
     "name": "stdout",
     "output_type": "stream",
     "text": [
      "/Users/pierrerouanet/Projects/Arcadeep/tetris-over-9000\n"
     ]
    }
   ],
   "source": [
    "cd .."
   ]
  },
  {
   "cell_type": "code",
   "execution_count": 2,
   "metadata": {},
   "outputs": [],
   "source": [
    "from dataset_loader import TetrisDataset\n",
    "\n",
    "dataset = TetrisDataset('./traj-experts/dataset-10.npz', batch_size=32, \n",
    "                        randomize=False, shuffle=False)"
   ]
  },
  {
   "cell_type": "code",
   "execution_count": 3,
   "metadata": {},
   "outputs": [],
   "source": [
    "from tetris import TetrisEnv\n",
    "from stable_baselines.common.vec_env import DummyVecEnv\n",
    "\n",
    "env = TetrisEnv()\n",
    "env = DummyVecEnv([lambda: env])"
   ]
  },
  {
   "cell_type": "code",
   "execution_count": 4,
   "metadata": {},
   "outputs": [
    {
     "name": "stdout",
     "output_type": "stream",
     "text": [
      "WARNING:tensorflow:From /Users/pierrerouanet/.virtualenvs/arcadeep/lib/python3.6/site-packages/tensorflow/python/framework/op_def_library.py:263: colocate_with (from tensorflow.python.framework.ops) is deprecated and will be removed in a future version.\n",
      "Instructions for updating:\n",
      "Colocations handled automatically by placer.\n",
      "WARNING:tensorflow:From /Users/pierrerouanet/.virtualenvs/arcadeep/lib/python3.6/site-packages/tensorflow/python/ops/math_ops.py:3066: to_int32 (from tensorflow.python.ops.math_ops) is deprecated and will be removed in a future version.\n",
      "Instructions for updating:\n",
      "Use tf.cast instead.\n",
      "WARNING:tensorflow:From /Users/pierrerouanet/.virtualenvs/arcadeep/lib/python3.6/site-packages/tensorflow/python/ops/math_grad.py:102: div (from tensorflow.python.ops.math_ops) is deprecated and will be removed in a future version.\n",
      "Instructions for updating:\n",
      "Deprecated in favor of operator or tf.math.divide.\n"
     ]
    }
   ],
   "source": [
    "from cnn import cnn\n",
    "\n",
    "from stable_baselines import A2C\n",
    "from stable_baselines.common.policies import FeedForwardPolicy\n",
    "\n",
    "class CnnPolicy(FeedForwardPolicy):\n",
    "    def __init__(self, *args, **kwargs):\n",
    "        FeedForwardPolicy.__init__(self, *args, **kwargs, \n",
    "                                   cnn_extractor=cnn, feature_extraction='cnn')\n",
    "\n",
    "model = A2C(CnnPolicy, env, verbose=1, tensorboard_log='./log')"
   ]
  },
  {
   "cell_type": "code",
   "execution_count": 5,
   "metadata": {},
   "outputs": [
    {
     "name": "stdout",
     "output_type": "stream",
     "text": [
      "Pretraining with Behavior Cloning...\n",
      "==== Training progress 33.33% ====\n",
      "Epoch 1\n",
      "Training loss: 0.539359, Validation loss: 0.849644\n",
      "\n",
      "==== Training progress 66.67% ====\n",
      "Epoch 2\n",
      "Training loss: 0.322712, Validation loss: 0.609532\n",
      "\n",
      "==== Training progress 100.00% ====\n",
      "Epoch 3\n",
      "Training loss: 0.272631, Validation loss: 0.332581\n",
      "\n",
      "Pretraining done.\n"
     ]
    },
    {
     "data": {
      "text/plain": [
       "166.58792090415955"
      ]
     },
     "execution_count": 5,
     "metadata": {},
     "output_type": "execute_result"
    }
   ],
   "source": [
    "import time\n",
    "\n",
    "t0 = time.time()\n",
    "model.pretrain(dataset, n_epochs=3)\n",
    "t1 = time.time()\n",
    "\n",
    "t1 - t0"
   ]
  },
  {
   "cell_type": "code",
   "execution_count": 6,
   "metadata": {},
   "outputs": [],
   "source": [
    "import time\n",
    "\n",
    "done = False\n",
    "obs = env.reset()\n",
    "\n",
    "while not done:\n",
    "    action, states = model.predict(obs)\n",
    "    obs, rew, done, info = env.step(action)\n",
    "    env.render()\n",
    "    time.sleep(1/30)"
   ]
  },
  {
   "cell_type": "code",
   "execution_count": null,
   "metadata": {},
   "outputs": [],
   "source": []
  }
 ],
 "metadata": {
  "kernelspec": {
   "display_name": "Python 3",
   "language": "python",
   "name": "python3"
  },
  "language_info": {
   "codemirror_mode": {
    "name": "ipython",
    "version": 3
   },
   "file_extension": ".py",
   "mimetype": "text/x-python",
   "name": "python",
   "nbconvert_exporter": "python",
   "pygments_lexer": "ipython3",
   "version": "3.6.5"
  }
 },
 "nbformat": 4,
 "nbformat_minor": 2
}
